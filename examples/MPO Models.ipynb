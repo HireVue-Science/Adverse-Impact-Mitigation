{
 "cells": [
  {
   "cell_type": "markdown",
   "id": "a914c581",
   "metadata": {},
   "source": [
    "# Multipenalty Optimized Models\n",
    "\n",
    "This notebook gives examples of using multipenalty optimized classifiers and regressors. These models work just like scikit-learn models, with the exception that the `.fit` method requires demographics.  They do not require demographics when calling `.predict`."
   ]
  },
  {
   "cell_type": "code",
   "execution_count": 1,
   "id": "7b9e610c",
   "metadata": {},
   "outputs": [],
   "source": [
    "import numpy as np\n",
    "from scipy.stats import pearsonr\n",
    "from sklearn.metrics import roc_auc_score\n",
    "from sklearn.linear_model import Ridge, LogisticRegression\n",
    "\n",
    "from ai_mitigation.models import MPORegressor, MPOClassifier\n",
    "from ai_mitigation.demo_utils import convert_df_to_demo_dicts\n",
    "from ai_mitigation.utils import calc_cohens_d_pairwise\n",
    "\n",
    "from example_data import gen_example_dataset"
   ]
  },
  {
   "cell_type": "code",
   "execution_count": 2,
   "id": "eefea782",
   "metadata": {},
   "outputs": [],
   "source": [
    "data = gen_example_dataset()"
   ]
  },
  {
   "cell_type": "markdown",
   "id": "c17edd5b",
   "metadata": {},
   "source": [
    "## Demographics Data Structures\n",
    "\n",
    "We support two types of demographic data structures: demographic dataframes and demographic dictionaries. Both structures will work, but sometimes one is more convenient to use than the other.\n",
    "\n",
    "A demographic dataframe has demographic columns (by convention, they must start with `demo_` to distinguish them from other columns). The example I'm showing only has a single column, but these models will optimize on multiple demographic categories."
   ]
  },
  {
   "cell_type": "code",
   "execution_count": 3,
   "id": "5acc7b46-8f66-4391-9ce0-59cd3e0074e6",
   "metadata": {},
   "outputs": [],
   "source": [
    "X = data[\"X\"]\n",
    "X_test = data[\"X_test\"]\n",
    "y = data[\"y\"]\n",
    "y_test = data[\"y_test\"]\n",
    "demo = data[\"demo\"]\n",
    "demo_test = data[\"demo_test\"]"
   ]
  },
  {
   "cell_type": "code",
   "execution_count": 4,
   "id": "3177a246",
   "metadata": {},
   "outputs": [
    {
     "data": {
      "text/html": [
       "<div>\n",
       "<style scoped>\n",
       "    .dataframe tbody tr th:only-of-type {\n",
       "        vertical-align: middle;\n",
       "    }\n",
       "\n",
       "    .dataframe tbody tr th {\n",
       "        vertical-align: top;\n",
       "    }\n",
       "\n",
       "    .dataframe thead th {\n",
       "        text-align: right;\n",
       "    }\n",
       "</style>\n",
       "<table border=\"1\" class=\"dataframe\">\n",
       "  <thead>\n",
       "    <tr style=\"text-align: right;\">\n",
       "      <th></th>\n",
       "      <th>demo_Gender</th>\n",
       "    </tr>\n",
       "  </thead>\n",
       "  <tbody>\n",
       "    <tr>\n",
       "      <th>0</th>\n",
       "      <td>Male</td>\n",
       "    </tr>\n",
       "    <tr>\n",
       "      <th>1</th>\n",
       "      <td>Female</td>\n",
       "    </tr>\n",
       "    <tr>\n",
       "      <th>2</th>\n",
       "      <td>Female</td>\n",
       "    </tr>\n",
       "    <tr>\n",
       "      <th>3</th>\n",
       "      <td>Male</td>\n",
       "    </tr>\n",
       "    <tr>\n",
       "      <th>4</th>\n",
       "      <td>Female</td>\n",
       "    </tr>\n",
       "  </tbody>\n",
       "</table>\n",
       "</div>"
      ],
      "text/plain": [
       "  demo_Gender\n",
       "0        Male\n",
       "1      Female\n",
       "2      Female\n",
       "3        Male\n",
       "4      Female"
      ]
     },
     "execution_count": 4,
     "metadata": {},
     "output_type": "execute_result"
    }
   ],
   "source": [
    "demo.head()"
   ]
  },
  {
   "cell_type": "markdown",
   "id": "e9d687ff",
   "metadata": {},
   "source": [
    "Demographic dictionaries are nested dictionaries that follow the form `{demo_category: {demo_group: mask, ...}, ...}`"
   ]
  },
  {
   "cell_type": "code",
   "execution_count": 5,
   "id": "27371a6b",
   "metadata": {},
   "outputs": [],
   "source": [
    "demo_dicts = convert_df_to_demo_dicts(demo)"
   ]
  },
  {
   "cell_type": "code",
   "execution_count": 6,
   "id": "64e98d69",
   "metadata": {},
   "outputs": [
    {
     "data": {
      "text/plain": [
       "{'demo_Gender': {'Female': array([False,  True,  True, ...,  True,  True, False]),\n",
       "  'Male': array([ True, False, False, ..., False, False,  True])}}"
      ]
     },
     "execution_count": 6,
     "metadata": {},
     "output_type": "execute_result"
    }
   ],
   "source": [
    "demo_dicts"
   ]
  },
  {
   "cell_type": "markdown",
   "id": "4ea9edc7",
   "metadata": {},
   "source": [
    "# Usage: Regressor"
   ]
  },
  {
   "cell_type": "code",
   "execution_count": 7,
   "id": "27b78062",
   "metadata": {},
   "outputs": [],
   "source": [
    "model_sklearn = Ridge(solver=\"cholesky\")\n",
    "model0 = MPORegressor(beta=0)\n",
    "model3 = MPORegressor(beta=3)"
   ]
  },
  {
   "cell_type": "code",
   "execution_count": 8,
   "id": "0c4eec57",
   "metadata": {},
   "outputs": [],
   "source": [
    "model_sklearn.fit(X, y)\n",
    "model0.fit(X, y, demo)\n",
    "model3.fit(X, y, demo)"
   ]
  },
  {
   "cell_type": "markdown",
   "id": "0328f34b",
   "metadata": {},
   "source": [
    "When `beta` is 0, the MPORegressor is equivalent to Ridge"
   ]
  },
  {
   "cell_type": "code",
   "execution_count": 9,
   "id": "c3b0762e",
   "metadata": {},
   "outputs": [
    {
     "name": "stdout",
     "output_type": "stream",
     "text": [
      "[0.01859943 0.02094763 0.020763   0.02098842 0.02116851 0.02096668\n",
      " 0.02331898 0.023183   0.02552222 0.02429843 0.02420451]\n"
     ]
    }
   ],
   "source": [
    "print(model_sklearn.coef_)"
   ]
  },
  {
   "cell_type": "code",
   "execution_count": 10,
   "id": "fa169cf4",
   "metadata": {},
   "outputs": [
    {
     "name": "stdout",
     "output_type": "stream",
     "text": [
      "[0.0185982  0.02094671 0.02076224 0.02098784 0.02116832 0.02096703\n",
      " 0.02331984 0.02318355 0.02552329 0.02429975 0.02420621]\n"
     ]
    }
   ],
   "source": [
    "print(model0.coef_)"
   ]
  },
  {
   "cell_type": "code",
   "execution_count": 11,
   "id": "618e6ad5",
   "metadata": {},
   "outputs": [],
   "source": [
    "y_pred_sklearn = model_sklearn.predict(X_test)\n",
    "y_pred0 = model0.predict(X_test)\n",
    "y_pred3 = model3.predict(X_test)"
   ]
  },
  {
   "cell_type": "code",
   "execution_count": 12,
   "id": "be07d4d5",
   "metadata": {},
   "outputs": [
    {
     "name": "stdout",
     "output_type": "stream",
     "text": [
      "Sklearn Ridge\n",
      "Pearson's R = 0.508406517066743\n",
      "Cohen's D (Male-Female) = 0.33624877337032144\n"
     ]
    }
   ],
   "source": [
    "print(\"Scikit-learn Ridge\")\n",
    "print(\"Pearson's R =\", pearsonr(y_pred_sklearn, y_test)[0])\n",
    "print(\n",
    "    \"Cohen's D (Male-Female) =\",\n",
    "    calc_cohens_d_pairwise(y_pred_sklearn, demo_test).d[(\"Male\", \"Female\")],\n",
    ")"
   ]
  },
  {
   "cell_type": "code",
   "execution_count": 13,
   "id": "3b6bc7c3",
   "metadata": {},
   "outputs": [
    {
     "name": "stdout",
     "output_type": "stream",
     "text": [
      "Beta=0\n",
      "Pearson's R = 0.508407257676023\n",
      "Cohen's D (Male-Female) = 0.33627054419587504\n"
     ]
    }
   ],
   "source": [
    "print(\"Beta=0\")\n",
    "print(\"Pearson's R =\", pearsonr(y_pred0, y_test)[0])\n",
    "print(\"Cohen's D (Male-Female) =\", calc_cohens_d_pairwise(y_pred0, demo_test).d[(\"Male\", \"Female\")])"
   ]
  },
  {
   "cell_type": "markdown",
   "id": "c3c20798",
   "metadata": {},
   "source": [
    "However, when beta > 0, group differences are decreased, but predictive validity is lower."
   ]
  },
  {
   "cell_type": "code",
   "execution_count": 14,
   "id": "a6d838b4",
   "metadata": {},
   "outputs": [
    {
     "name": "stdout",
     "output_type": "stream",
     "text": [
      "Beta=3\n",
      "Pearson's R = 0.49290152488821115\n",
      "Cohen's D (Male-Female) = 0.2094576493017532\n"
     ]
    }
   ],
   "source": [
    "print(\"Beta=3\")\n",
    "print(\"Pearson's R =\", pearsonr(y_pred3, y_test)[0])\n",
    "print(\"Cohen's D (Male-Female) =\", calc_cohens_d_pairwise(y_pred3, demo_test).d[(\"Male\", \"Female\")])"
   ]
  },
  {
   "cell_type": "markdown",
   "id": "170e8fed",
   "metadata": {},
   "source": [
    "# Usage: Classifier"
   ]
  },
  {
   "cell_type": "markdown",
   "id": "ee5899ad",
   "metadata": {},
   "source": [
    "We also have a logistic-regression based classifier that incorporates a group differences term. Similarly, when beta=0, it is equivalent to regular l2-logistic regression"
   ]
  },
  {
   "cell_type": "code",
   "execution_count": 15,
   "id": "7256bb11",
   "metadata": {},
   "outputs": [],
   "source": [
    "model_sklearn = LogisticRegression(solver=\"lbfgs\")\n",
    "model0 = MPOClassifier(beta=0)\n",
    "model3 = MPOClassifier(beta=3)"
   ]
  },
  {
   "cell_type": "code",
   "execution_count": 16,
   "id": "3a680173",
   "metadata": {},
   "outputs": [],
   "source": [
    "model_sklearn.fit(X, y > 0)\n",
    "model0.fit(X, y > 0, demo)\n",
    "model3.fit(X, y > 0, demo)"
   ]
  },
  {
   "cell_type": "code",
   "execution_count": 17,
   "id": "b18d27b8",
   "metadata": {},
   "outputs": [],
   "source": [
    "y_pred_sklearn = model_sklearn.predict_proba(X_test)[:, 1]\n",
    "y_pred0 = model0.predict_proba(X_test)[:, 1]\n",
    "y_pred3 = model3.predict_proba(X_test)[:, 1]"
   ]
  },
  {
   "cell_type": "code",
   "execution_count": 18,
   "id": "09b3e98c",
   "metadata": {},
   "outputs": [
    {
     "name": "stdout",
     "output_type": "stream",
     "text": [
      "Sklearn Logitic Regression\n",
      "AUC = 0.7400576658925633\n",
      "Adverse Impact Ratio (Female/Male) = 0.8034714004480716\n"
     ]
    }
   ],
   "source": [
    "print(\"Sklearn Logitic Regression\")\n",
    "print(\"AUC =\", roc_auc_score(y_test > 0, y_pred_sklearn))\n",
    "passing_rate_male = np.mean(y_pred_sklearn[demo_test.demo_Gender == \"Male\"] > 0.5)\n",
    "passing_rate_female = np.mean(y_pred_sklearn[demo_test.demo_Gender == \"Female\"] > 0.5)\n",
    "print(\"Adverse Impact Ratio (Female/Male) =\", passing_rate_female / passing_rate_male)"
   ]
  },
  {
   "cell_type": "code",
   "execution_count": 19,
   "id": "49e51003",
   "metadata": {},
   "outputs": [
    {
     "name": "stdout",
     "output_type": "stream",
     "text": [
      "Beta=0\n",
      "AUC = 0.7400563459293572\n",
      "Adverse Impact Ratio (Female/Male) = 0.8039339631426302\n"
     ]
    }
   ],
   "source": [
    "print(\"Beta=0\")\n",
    "print(\"AUC =\", roc_auc_score(y_test > 0, y_pred0))\n",
    "passing_rate_male = np.mean(y_pred0[demo_test.demo_Gender == \"Male\"] > 0.5)\n",
    "passing_rate_female = np.mean(y_pred0[demo_test.demo_Gender == \"Female\"] > 0.5)\n",
    "print(\"Adverse Impact Ratio (Female/Male) =\", passing_rate_female / passing_rate_male)"
   ]
  },
  {
   "cell_type": "code",
   "execution_count": 20,
   "id": "c165eae1",
   "metadata": {},
   "outputs": [
    {
     "name": "stdout",
     "output_type": "stream",
     "text": [
      "Beta=3\n",
      "AUC = 0.7123054394858743\n",
      "Adverse Impact Ratio (Female/Male) = 0.9480857812472467\n"
     ]
    }
   ],
   "source": [
    "print(\"Beta=3\")\n",
    "print(\"AUC =\", roc_auc_score(y_test > 0, y_pred3))\n",
    "passing_rate_male = np.mean(y_pred3[demo_test.demo_Gender == \"Male\"] > 0.5)\n",
    "passing_rate_female = np.mean(y_pred3[demo_test.demo_Gender == \"Female\"] > 0.5)\n",
    "print(\"Adverse Impact Ratio (Female/Male) =\", passing_rate_female / passing_rate_male)"
   ]
  }
 ],
 "metadata": {
  "kernelspec": {
   "display_name": "aim",
   "language": "python",
   "name": "aim"
  },
  "language_info": {
   "codemirror_mode": {
    "name": "ipython",
    "version": 3
   },
   "file_extension": ".py",
   "mimetype": "text/x-python",
   "name": "python",
   "nbconvert_exporter": "python",
   "pygments_lexer": "ipython3",
   "version": "3.11.8"
  }
 },
 "nbformat": 4,
 "nbformat_minor": 5
}
